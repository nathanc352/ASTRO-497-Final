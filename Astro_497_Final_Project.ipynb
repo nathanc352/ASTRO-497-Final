{
 "cells": [
  {
   "cell_type": "raw",
   "id": "f4f7138d-0d00-4472-bb54-93bc8811a1e2",
   "metadata": {},
   "source": [
    "title: Astro 497 Final Dashboard\n",
    "description: Dashboard with UKRIT 2019 Event Data\n",
    "show-code: False\n",
    "params:\n",
    "    ticker: \n",
    "        input: select\n",
    "        value: \n",
    "        label: Select ticker\n",
    "        choices: []"
   ]
  },
  {
   "cell_type": "code",
   "execution_count": 5,
   "id": "61c0c96e-fe66-45fc-849c-90b8b8a1c24a",
   "metadata": {},
   "outputs": [],
   "source": [
    "import numpy as np\n",
    "import matplotlib.pyplot as plt\n",
    "import os"
   ]
  },
  {
   "cell_type": "code",
   "execution_count": 31,
   "id": "c1ba1878-28aa-498d-a4da-7c391c9b1a88",
   "metadata": {},
   "outputs": [],
   "source": [
    "path = \"/gpfs/group/RISE/classroom/astro_497/projects/cristello\"\n",
    "\n",
    "test=os.listdir(path)\n",
    "\n",
    "for item in test:\n",
    "    if item.endswith(\".tar\"):\n",
    "        os.remove(os.path.join(path, item))\n",
    "    if item.endswith(\".jl\"):\n",
    "        os.remove(os.path.join(path, item))\n",
    "    if item.endswith(\".bat\"):\n",
    "        os.remove(os.path.join(path, item))\n",
    "    if item.endswith(\".tbl\"):\n",
    "        os.remove(os.path.join(path, item))\n",
    "    \n",
    "filtered_datasets = os.listdir(path)\n",
    "\n",
    "one_data_list = os.listdir(path+\"/\"+filtered_datasets[0])"
   ]
  },
  {
   "cell_type": "code",
   "execution_count": 33,
   "id": "2d7a8366-2506-48b5-baf7-40f8c0c2d7bb",
   "metadata": {},
   "outputs": [],
   "source": [
    "# I am first enabling the code to read in one dataset, and I will generalize this once it is able to read in one dataset. However, \n",
    "# it keeps giving me a Permission Denied error when I try to read in any individual table. Not sure how to fix this. \n",
    "import pandas\n",
    "pandas.read_table(path+\"/\"+filtered_datasets[0]+\"/\"+one_data_list[0], comment='#', delim_whitespace=True)"
   ]
  },
  {
   "cell_type": "code",
   "execution_count": null,
   "id": "eb214353-0029-41f4-90b1-d316806f01b0",
   "metadata": {},
   "outputs": [],
   "source": []
  }
 ],
 "metadata": {
  "kernelspec": {
   "display_name": "Python 3 (ipykernel)",
   "language": "python",
   "name": "python3"
  },
  "language_info": {
   "codemirror_mode": {
    "name": "ipython",
    "version": 3
   },
   "file_extension": ".py",
   "mimetype": "text/x-python",
   "name": "python",
   "nbconvert_exporter": "python",
   "pygments_lexer": "ipython3",
   "version": "3.10.5"
  }
 },
 "nbformat": 4,
 "nbformat_minor": 5
}
